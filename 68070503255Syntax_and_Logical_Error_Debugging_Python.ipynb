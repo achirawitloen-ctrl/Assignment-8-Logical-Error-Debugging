{
  "cells": [
    {
      "cell_type": "code",
      "execution_count": 16,
      "metadata": {
        "colab": {
          "base_uri": "https://localhost:8080/"
        },
        "id": "bgLMGV2P-pWH",
        "outputId": "d597128b-eff4-4a0f-8cb1-45f408102ebd"
      },
      "outputs": [
        {
          "name": "stdout",
          "output_type": "stream",
          "text": [
            "Sum of first 3 positives: 12\n"
          ]
        }
      ],
      "source": [
        "# Expected Output:\n",
        "# Sum of first 3 positives: 12\n",
        "\n",
        "nums = [-1, 2, -5, 3, 7, -2, 4]\n",
        "count = 0\n",
        "total = 0\n",
        "\n",
        "for n in nums:\n",
        "    if n > 0:\n",
        "     total += n\n",
        "     count += 1\n",
        "    if count == 3:\n",
        "     break\n",
        "\n",
        "print(\"Sum of first 3 positives:\", total)"
      ]
    },
    {
      "cell_type": "code",
      "execution_count": 17,
      "metadata": {
        "colab": {
          "base_uri": "https://localhost:8080/"
        },
        "id": "g_9Bz8qc_GDA",
        "outputId": "e35b47f9-128f-47a3-bc6e-849fb5693e0a"
      },
      "outputs": [
        {
          "name": "stdout",
          "output_type": "stream",
          "text": [
            "Winner: Cara\n"
          ]
        }
      ],
      "source": [
        "# find the highest scoring player\n",
        "# Expected Output:\n",
        "# Winner: Cara\n",
        "players = [(\"Alice\", 15), (\"Bob\", 10), (\"Cara\", 20), (\"Dan\", 9)]\n",
        "winner = None\n",
        "best = -1\n",
        "\n",
        "for name, score in players:\n",
        "    if score > best:\n",
        "        best = score\n",
        "        winner = name\n",
        "\n",
        "print(\"Winner:\", winner)"
      ]
    },
    {
      "cell_type": "code",
      "execution_count": 18,
      "metadata": {
        "colab": {
          "base_uri": "https://localhost:8080/"
        },
        "id": "mFnCscKF_odT",
        "outputId": "b9d1f62f-561a-44b9-946b-bd4f862df10d"
      },
      "outputs": [
        {
          "name": "stdout",
          "output_type": "stream",
          "text": [
            "First positive multiple of 7: 21\n"
          ]
        }
      ],
      "source": [
        "# Expected Output:\n",
        "# First positive multiple of 7: 21\n",
        "nums = [-14, -7, 0, 7, 14, 21, 28]\n",
        "first = None\n",
        "for n in nums:\n",
        "    if n > 0 and n > 20 and n % 7 == 0:\n",
        "        first = n\n",
        "        break\n",
        "\n",
        "if first is None:\n",
        "    print(\"None found\")\n",
        "else:\n",
        "    print(\"First positive multiple of 7:\", first)"
      ]
    },
    {
      "cell_type": "code",
      "execution_count": 21,
      "metadata": {},
      "outputs": [
        {
          "name": "stdout",
          "output_type": "stream",
          "text": [
            "Collecting numpy\n",
            "  Downloading numpy-2.3.4-cp311-cp311-win_amd64.whl.metadata (60 kB)\n",
            "     ---------------------------------------- 0.0/60.9 kB ? eta -:--:--\n",
            "     ------------------- ------------------ 30.7/60.9 kB 445.2 kB/s eta 0:00:01\n",
            "     ------------------- ------------------ 30.7/60.9 kB 445.2 kB/s eta 0:00:01\n",
            "     -------------------------------------- 60.9/60.9 kB 465.1 kB/s eta 0:00:00\n",
            "Downloading numpy-2.3.4-cp311-cp311-win_amd64.whl (13.1 MB)\n",
            "   ---------------------------------------- 0.0/13.1 MB ? eta -:--:--\n",
            "   ---------------------------------------- 0.0/13.1 MB ? eta -:--:--\n",
            "   ---------------------------------------- 0.1/13.1 MB 2.0 MB/s eta 0:00:07\n",
            "   ---------------------------------------- 0.1/13.1 MB 2.2 MB/s eta 0:00:06\n",
            "    --------------------------------------- 0.2/13.1 MB 2.1 MB/s eta 0:00:07\n",
            "   - -------------------------------------- 0.4/13.1 MB 2.3 MB/s eta 0:00:06\n",
            "   - -------------------------------------- 0.6/13.1 MB 2.9 MB/s eta 0:00:05\n",
            "   -- ------------------------------------- 0.7/13.1 MB 2.7 MB/s eta 0:00:05\n",
            "   -- ------------------------------------- 0.9/13.1 MB 2.8 MB/s eta 0:00:05\n",
            "   --- ------------------------------------ 1.3/13.1 MB 3.6 MB/s eta 0:00:04\n",
            "   ---- ----------------------------------- 1.4/13.1 MB 3.2 MB/s eta 0:00:04\n",
            "   ------- -------------------------------- 2.4/13.1 MB 5.4 MB/s eta 0:00:02\n",
            "   -------- ------------------------------- 2.7/13.1 MB 5.8 MB/s eta 0:00:02\n",
            "   -------------- ------------------------- 4.7/13.1 MB 8.6 MB/s eta 0:00:01\n",
            "   --------------- ------------------------ 5.1/13.1 MB 8.9 MB/s eta 0:00:01\n",
            "   --------------------- ------------------ 7.0/13.1 MB 10.8 MB/s eta 0:00:01\n",
            "   ------------------------ --------------- 8.0/13.1 MB 11.9 MB/s eta 0:00:01\n",
            "   --------------------------- ------------ 9.1/13.1 MB 12.4 MB/s eta 0:00:01\n",
            "   --------------------------------- ------ 10.8/13.1 MB 18.2 MB/s eta 0:00:01\n",
            "   ------------------------------------ --- 11.9/13.1 MB 25.2 MB/s eta 0:00:01\n",
            "   ---------------------------------------  13.1/13.1 MB 28.4 MB/s eta 0:00:01\n",
            "   ---------------------------------------- 13.1/13.1 MB 27.3 MB/s eta 0:00:00\n",
            "Installing collected packages: numpy\n",
            "Successfully installed numpy-2.3.4\n",
            "Note: you may need to restart the kernel to use updated packages.\n"
          ]
        },
        {
          "name": "stderr",
          "output_type": "stream",
          "text": [
            "\n",
            "[notice] A new release of pip is available: 24.0 -> 25.2\n",
            "[notice] To update, run: C:\\Users\\Katana\\AppData\\Local\\Microsoft\\WindowsApps\\PythonSoftwareFoundation.Python.3.11_qbz5n2kfra8p0\\python.exe -m pip install --upgrade pip\n"
          ]
        }
      ],
      "source": [
        "pip install numpy"
      ]
    },
    {
      "cell_type": "code",
      "execution_count": 19,
      "metadata": {
        "id": "AY7quxB6Bulg"
      },
      "outputs": [
        {
          "name": "stdout",
          "output_type": "stream",
          "text": [
            "mean=3.0 min=1 max=5\n"
          ]
        }
      ],
      "source": [
        "# Expected Output:\n",
        "# mean=3.0 min=1 max=5\n",
        "\n",
        "def stats(nums):\n",
        "    mn = min(nums)\n",
        "    mx = max(nums)\n",
        "    avg = sum(nums)/len(nums)\n",
        "    return mn, mx, avg\n",
        "\n",
        "mn, mx, avg = stats([1,2,3,4,5])\n",
        "print(f\"mean={avg} min={mn} max={mx}\")"
      ]
    },
    {
      "cell_type": "code",
      "execution_count": 22,
      "metadata": {
        "id": "HXRmCSI8DVAa"
      },
      "outputs": [
        {
          "name": "stdout",
          "output_type": "stream",
          "text": [
            "[[0.7303843  0.41696823 0.01673985]\n",
            " [0.93665526 0.91686742 0.15554488]]\n"
          ]
        }
      ],
      "source": [
        "# Expected Output: Random array of shape (2,3)\n",
        "import numpy\n",
        "a = numpy.random.rand(2,3)\n",
        "print(a)"
      ]
    },
    {
      "cell_type": "code",
      "execution_count": 30,
      "metadata": {
        "collapsed": true,
        "id": "gX6tW-lBDhn_"
      },
      "outputs": [
        {
          "name": "stdout",
          "output_type": "stream",
          "text": [
            "sqrt(16) = 4.0\n"
          ]
        }
      ],
      "source": [
        "# Expected Output: sqrt(16) = 4.0\n",
        "import numpy as np\n",
        "print(\"sqrt(16) =\", math.sqrt(16))"
      ]
    },
    {
      "cell_type": "code",
      "execution_count": 29,
      "metadata": {
        "id": "Jg4KYIhSDouW"
      },
      "outputs": [
        {
          "name": "stdout",
          "output_type": "stream",
          "text": [
            "0.7071067811865476\n"
          ]
        }
      ],
      "source": [
        "# Expected Output: 0.7071067811865476\n",
        "\n",
        "import math\n",
        "import numpy\n",
        "print(math.sin(math.pi / 4))"
      ]
    },
    {
      "cell_type": "code",
      "execution_count": 28,
      "metadata": {
        "colab": {
          "base_uri": "https://localhost:8080/"
        },
        "id": "AsaiYN8PDyfe",
        "outputId": "70819d8c-bcaa-4ed2-ef74-7faf7bd003ba"
      },
      "outputs": [
        {
          "name": "stdout",
          "output_type": "stream",
          "text": [
            "Mean = 3.0\n"
          ]
        }
      ],
      "source": [
        "# Expected Output: Mean = 3.0\n",
        "import numpy as np\n",
        "arr = np.array([1, 2, 3, 4, 5])\n",
        "mean = np.sum(arr) / np.size(arr)\n",
        "print(\"Mean =\", mean)"
      ]
    },
    {
      "cell_type": "code",
      "execution_count": null,
      "metadata": {
        "id": "kb42Oi8IEjjq"
      },
      "outputs": [
        {
          "name": "stdout",
          "output_type": "stream",
          "text": [
            "Aye 25\n"
          ]
        }
      ],
      "source": [
        "# Expected Output:\n",
        "# Aye 25\n",
        "class Person:\n",
        "    def __init__(self, name, age):\n",
        "     self.name = name\n",
        "     self.age = age\n",
        "\n",
        "p = Person(\"Aye\", 25)\n",
        "print(p.name,p.age)\n"
      ]
    },
    {
      "cell_type": "code",
      "execution_count": null,
      "metadata": {
        "id": "eCULBxn7FWmb"
      },
      "outputs": [
        {
          "name": "stdout",
          "output_type": "stream",
          "text": [
            "50000\n"
          ]
        }
      ],
      "source": [
        "# Expected Output:\n",
        "# 50000\n",
        "class Employee:\n",
        "    def __init__(self, salary):\n",
        "        self.salary = salary\n",
        "\n",
        "    def get_salary(self):\n",
        "        return self.salary\n",
        "\n",
        "e = Employee(50000)\n",
        "print(e.salary)"
      ]
    },
    {
      "cell_type": "code",
      "execution_count": null,
      "metadata": {
        "id": "y_SJZvylFmXT"
      },
      "outputs": [
        {
          "name": "stdout",
          "output_type": "stream",
          "text": [
            "Brand: Toyota, Engine: 2000\n"
          ]
        }
      ],
      "source": [
        "# Expected Output:\n",
        "# Brand: Toyota, Engine: 2000\n",
        "class Vehicle:\n",
        "    def __init__(self, brand):\n",
        "        self.brand = brand\n",
        "\n",
        "class Car(Vehicle):\n",
        "    def __init__(self, brand, engine):\n",
        "        self.engine = engine\n",
        "        self.brand= brand\n",
        "\n",
        "c = Car(\"Toyota\", 2000)\n",
        "print(f\"Brand: {c.brand}, Engine: {c.engine}\")"
      ]
    },
    {
      "cell_type": "code",
      "execution_count": null,
      "metadata": {
        "id": "VZQ3DDbsHWC4"
      },
      "outputs": [
        {
          "name": "stdout",
          "output_type": "stream",
          "text": [
            "Area: 12.566370614359172\n"
          ]
        }
      ],
      "source": [
        "# Expected Output:\n",
        "# Area: 12.56\n",
        "import math\n",
        "\n",
        "class Shape:\n",
        "    def area(self):\n",
        "        pass\n",
        "\n",
        "class Circle(Shape):\n",
        "    def area(self,radius):\n",
        "        return math.pi * radius ** 2\n",
        "\n",
        "c = Circle()\n",
        "print(\"Area:\", c.area(2))"
      ]
    }
  ],
  "metadata": {
    "colab": {
      "provenance": []
    },
    "kernelspec": {
      "display_name": "Python 3",
      "name": "python3"
    },
    "language_info": {
      "codemirror_mode": {
        "name": "ipython",
        "version": 3
      },
      "file_extension": ".py",
      "mimetype": "text/x-python",
      "name": "python",
      "nbconvert_exporter": "python",
      "pygments_lexer": "ipython3",
      "version": "3.11.9"
    }
  },
  "nbformat": 4,
  "nbformat_minor": 0
}
